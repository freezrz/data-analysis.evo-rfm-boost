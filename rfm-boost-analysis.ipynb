{
 "cells": [
  {
   "cell_type": "code",
   "execution_count": 71,
   "metadata": {},
   "outputs": [
    {
     "name": "stdout",
     "output_type": "stream",
     "text": [
      "Calculation started (calculation_id=dec3e865-b31f-966f-e782-ee23273c9799) in (session=10c3e854-2955-09cc-08ca-a582cb079ec2). Checking calculation status...\n"
     ]
    },
    {
     "data": {
      "application/vnd.jupyter.widget-view+json": {
       "model_id": "ac180d032e744983bc4f8d49015b31c9",
       "version_major": 2,
       "version_minor": 0
      },
      "text/plain": [
       "Progress:   0%|          |elapsed time = 00:00s"
      ]
     },
     "metadata": {},
     "output_type": "display_data"
    },
    {
     "name": "stdout",
     "output_type": "stream",
     "text": [
      "Calculation dec3e865-b31f-966f-e782-ee23273c9799 failed\n",
      "\n",
      "\n",
      "  File \"<stdin>\", line 7, in <module>\n",
      "AttributeError: 'function' object has no attribute 'appName'\n",
      "\n"
     ]
    }
   ],
   "source": [
    "import numpy as np\n",
    "import pandas as pd\n",
    "import matplotlib.pyplot as plt\n",
    "%matplot plt\n",
    "\n",
    "import pyspark\n",
    "from pyspark.sql import SparkSession\n",
    "\n",
    "#spark = SparkSession.builder.appName(\"PySpark\").getOrCreate()\n",
    "#spark\n",
    "spark = SparkSession.builder \\\n",
    "    .appName(\"PySpark\") \\\n",
    "    .getOrCreate()\n"
   ]
  },
  {
   "cell_type": "code",
   "execution_count": 72,
   "metadata": {},
   "outputs": [
    {
     "name": "stdout",
     "output_type": "stream",
     "text": [
      "Calculation started (calculation_id=f6c3e865-b88c-d5e1-a309-bc1297aaf3e5) in (session=10c3e854-2955-09cc-08ca-a582cb079ec2). Checking calculation status...\n"
     ]
    },
    {
     "data": {
      "application/vnd.jupyter.widget-view+json": {
       "model_id": "6a3fbe0f7cee4d6aa850a3bf7b4bec68",
       "version_major": 2,
       "version_minor": 0
      },
      "text/plain": [
       "Progress:   0%|          |elapsed time = 00:00s"
      ]
     },
     "metadata": {},
     "output_type": "display_data"
    },
    {
     "name": "stdout",
     "output_type": "stream",
     "text": [
      "Calculation completed.\n"
     ]
    }
   ],
   "source": [
    "from pyspark.sql import functions as F\n",
    "from pyspark.sql.types import *\n",
    "from pyspark.sql.window import Window"
   ]
  },
  {
   "cell_type": "code",
   "execution_count": 73,
   "metadata": {},
   "outputs": [
    {
     "name": "stdout",
     "output_type": "stream",
     "text": [
      "Calculation started (calculation_id=0ac3e865-b9c5-8f6e-1c00-0d05bbc7bee2) in (session=10c3e854-2955-09cc-08ca-a582cb079ec2). Checking calculation status...\n"
     ]
    },
    {
     "data": {
      "application/vnd.jupyter.widget-view+json": {
       "model_id": "6ca3e27bc755435fbb62c11a322bb21f",
       "version_major": 2,
       "version_minor": 0
      },
      "text/plain": [
       "Progress:   0%|          |elapsed time = 00:00s"
      ]
     },
     "metadata": {},
     "output_type": "display_data"
    },
    {
     "name": "stdout",
     "output_type": "stream",
     "text": [
      "Calculation completed.\n"
     ]
    }
   ],
   "source": [
    "def printdf(df, l=5):\n",
    "    return df.limit(l).toPandas()\n",
    "\n",
    "def nullcount(df):\n",
    "    return {col: df.filter(df[col].isNull()).count() for col in df.columns}\n",
    "\n",
    "def shape(df):\n",
    "    # df.toPandas().shape\n",
    "    print((df.count(), len(df.columns)))"
   ]
  },
  {
   "cell_type": "code",
   "execution_count": 74,
   "metadata": {},
   "outputs": [
    {
     "name": "stdout",
     "output_type": "stream",
     "text": [
      "Calculation started (calculation_id=e6c3e865-bf1c-dce7-85e4-26f09253a86c) in (session=10c3e854-2955-09cc-08ca-a582cb079ec2). Checking calculation status...\n"
     ]
    },
    {
     "data": {
      "application/vnd.jupyter.widget-view+json": {
       "model_id": "b025df2839e945249d2980c4e43d8e54",
       "version_major": 2,
       "version_minor": 0
      },
      "text/plain": [
       "Progress:   0%|          |elapsed time = 00:00s"
      ]
     },
     "metadata": {},
     "output_type": "display_data"
    },
    {
     "name": "stdout",
     "output_type": "stream",
     "text": [
      "Calculation completed.\n",
      "root\n",
      " |-- creation_date: string (nullable = true)\n",
      " |-- created_date_time: long (nullable = true)\n",
      " |-- sg_time: string (nullable = true)\n",
      " |-- user_id: integer (nullable = true)\n",
      " |-- invoice_id: integer (nullable = true)\n",
      " |-- boost_amount: double (nullable = true)\n",
      " |-- currency: string (nullable = true)\n",
      "\n"
     ]
    }
   ],
   "source": [
    "data = spark.read.csv(f\"s3://evo-prod-cdc-copy-query/evo-prod-boost/2023/04/30/ee59d76f-6fbd-4045-bbd0-1b0f391c457d.csv\", \n",
    "                      inferSchema=True, \n",
    "                      header=True)\n",
    "data.printSchema()"
   ]
  },
  {
   "cell_type": "code",
   "execution_count": 55,
   "metadata": {},
   "outputs": [],
   "source": [
    "# EDA "
   ]
  },
  {
   "cell_type": "code",
   "execution_count": 75,
   "metadata": {},
   "outputs": [
    {
     "name": "stdout",
     "output_type": "stream",
     "text": [
      "Calculation started (calculation_id=86c3e865-d091-68d0-010b-6688a3eea8c7) in (session=10c3e854-2955-09cc-08ca-a582cb079ec2). Checking calculation status...\n"
     ]
    },
    {
     "data": {
      "application/vnd.jupyter.widget-view+json": {
       "model_id": "ebe094d7a30d4895bd4be031535ae012",
       "version_major": 2,
       "version_minor": 0
      },
      "text/plain": [
       "Progress:   0%|          |elapsed time = 00:00s"
      ]
     },
     "metadata": {},
     "output_type": "display_data"
    },
    {
     "name": "stdout",
     "output_type": "stream",
     "text": [
      "Calculation completed.\n"
     ]
    }
   ],
   "source": [
    "from pyspark.sql import functions as F\n",
    "from pyspark.sql.types import *\n",
    "from pyspark.sql.window import Window"
   ]
  },
  {
   "cell_type": "code",
   "execution_count": 76,
   "metadata": {},
   "outputs": [
    {
     "name": "stdout",
     "output_type": "stream",
     "text": [
      "Calculation started (calculation_id=7ec3e865-d5c8-8c3b-4197-fb876494a357) in (session=10c3e854-2955-09cc-08ca-a582cb079ec2). Checking calculation status...\n"
     ]
    },
    {
     "data": {
      "application/vnd.jupyter.widget-view+json": {
       "model_id": "2a997120c8a64f65b43485ff05e0fe6f",
       "version_major": 2,
       "version_minor": 0
      },
      "text/plain": [
       "Progress:   0%|          |elapsed time = 00:00s"
      ]
     },
     "metadata": {},
     "output_type": "display_data"
    },
    {
     "name": "stdout",
     "output_type": "stream",
     "text": [
      "Calculation completed.\n"
     ]
    }
   ],
   "source": [
    "def printdf(df, l=5):\n",
    "    return df.limit(l).toPandas()\n",
    "\n",
    "def nullcount(df):\n",
    "    return {col: df.filter(df[col].isNull()).count() for col in df.columns}\n",
    "\n",
    "def shape(df):\n",
    "    # df.toPandas().shape\n",
    "    print((df.count(), len(df.columns)))"
   ]
  },
  {
   "cell_type": "code",
   "execution_count": 77,
   "metadata": {},
   "outputs": [
    {
     "name": "stdout",
     "output_type": "stream",
     "text": [
      "Calculation started (calculation_id=cec3e865-db0d-c581-76b8-2199fba66bef) in (session=10c3e854-2955-09cc-08ca-a582cb079ec2). Checking calculation status...\n"
     ]
    },
    {
     "data": {
      "application/vnd.jupyter.widget-view+json": {
       "model_id": "c76dcc332b0f4339b3978bbda6865462",
       "version_major": 2,
       "version_minor": 0
      },
      "text/plain": [
       "Progress:   0%|          |elapsed time = 00:00s"
      ]
     },
     "metadata": {},
     "output_type": "display_data"
    },
    {
     "name": "stdout",
     "output_type": "stream",
     "text": [
      "Calculation completed.\n",
      "Dataframe dimensions: (301, 7)\n",
      "         creation_date  created_date_time  ... boost_amount  currency\n",
      "0  2023-03-02 09:00:11   1677718811319661  ...       151.80       SGD\n",
      "1  2023-03-02 09:00:03   1677718803656321  ...       376.51       SGD\n",
      "2  2023-03-02 09:00:10   1677718810915300  ...       117.56       SGD\n",
      "3  2023-03-01 12:08:00   1677600480833487  ...         0.01       SGD\n",
      "4  2023-03-01 09:00:04   1677632404950618  ...      2515.09       SGD\n",
      "\n",
      "[5 rows x 7 columns]\n",
      "\n"
     ]
    }
   ],
   "source": [
    "print('Dataframe dimensions:', (data.count(), len(data.columns)))\n",
    "printdf(data)"
   ]
  },
  {
   "cell_type": "code",
   "execution_count": 78,
   "metadata": {},
   "outputs": [
    {
     "name": "stdout",
     "output_type": "stream",
     "text": [
      "Calculation started (calculation_id=eec3e865-ec8a-6572-ac12-13742196804d) in (session=10c3e854-2955-09cc-08ca-a582cb079ec2). Checking calculation status...\n"
     ]
    },
    {
     "data": {
      "application/vnd.jupyter.widget-view+json": {
       "model_id": "c6dee0cad6994a35a3b0b068b5294977",
       "version_major": 2,
       "version_minor": 0
      },
      "text/plain": [
       "Progress:   0%|          |elapsed time = 00:00s"
      ]
     },
     "metadata": {},
     "output_type": "display_data"
    },
    {
     "name": "stdout",
     "output_type": "stream",
     "text": [
      "Calculation completed.\n",
      "       created_date_time     user_id  invoice_id  boost_amount\n",
      "count       3.010000e+02  301.000000  301.000000    301.000000\n",
      "mean        1.667611e+15  301.940199  230.983389    642.289073\n",
      "std         7.532048e+12  168.332676  110.117376   1226.807160\n",
      "min         1.650686e+15    5.000000   66.000000      0.010000\n",
      "25%         1.660791e+15  182.000000  130.000000    132.840000\n",
      "50%         1.668560e+15  280.000000  226.000000    231.470000\n",
      "75%         1.674792e+15  385.000000  315.000000    650.000000\n",
      "max         1.677719e+15  597.000000  449.000000   9948.090000\n",
      "\n"
     ]
    }
   ],
   "source": [
    "data.toPandas().describe()"
   ]
  },
  {
   "cell_type": "code",
   "execution_count": 79,
   "metadata": {},
   "outputs": [
    {
     "name": "stdout",
     "output_type": "stream",
     "text": [
      "Calculation started (calculation_id=a6c3e865-fe08-a14c-6d2e-4ba6128b13da) in (session=10c3e854-2955-09cc-08ca-a582cb079ec2). Checking calculation status...\n"
     ]
    },
    {
     "data": {
      "application/vnd.jupyter.widget-view+json": {
       "model_id": "b92d6c5af51d48f0814aadf9cec960fd",
       "version_major": 2,
       "version_minor": 0
      },
      "text/plain": [
       "Progress:   0%|          |elapsed time = 00:00s"
      ]
     },
     "metadata": {},
     "output_type": "display_data"
    },
    {
     "name": "stdout",
     "output_type": "stream",
     "text": [
      "Calculation completed.\n",
      "         creation_date  created_date_time  ... boost_amount  currency\n",
      "0  2023-03-02 09:00:11   1677718811319661  ...       151.80       SGD\n",
      "1  2023-03-02 09:00:03   1677718803656321  ...       376.51       SGD\n",
      "2  2023-03-02 09:00:10   1677718810915300  ...       117.56       SGD\n",
      "3  2023-03-01 12:08:00   1677600480833487  ...         0.01       SGD\n",
      "4  2023-03-01 09:00:04   1677632404950618  ...      2515.09       SGD\n",
      "\n",
      "[5 rows x 7 columns]\n",
      "\n"
     ]
    }
   ],
   "source": [
    "rtl_data = data.filter(F.col(\"user_id\").isNotNull())\n",
    "\n",
    "rtl_data.toPandas().shape\n",
    "\n",
    "printdf(rtl_data)"
   ]
  },
  {
   "cell_type": "code",
   "execution_count": 56,
   "metadata": {},
   "outputs": [],
   "source": [
    "# RFM Modeling"
   ]
  },
  {
   "cell_type": "code",
   "execution_count": 80,
   "metadata": {},
   "outputs": [
    {
     "name": "stdout",
     "output_type": "stream",
     "text": [
      "Calculation started (calculation_id=86c3e866-0fbe-6b02-dbaf-99ea1716f232) in (session=10c3e854-2955-09cc-08ca-a582cb079ec2). Checking calculation status...\n"
     ]
    },
    {
     "data": {
      "application/vnd.jupyter.widget-view+json": {
       "model_id": "2be67e10e3b047d6bf36ad9c616a90c5",
       "version_major": 2,
       "version_minor": 0
      },
      "text/plain": [
       "Progress:   0%|          |elapsed time = 00:00s"
      ]
     },
     "metadata": {},
     "output_type": "display_data"
    },
    {
     "name": "stdout",
     "output_type": "stream",
     "text": [
      "Calculation completed.\n",
      "2022-04-23 12:01:10\n",
      "2023-03-02 09:00:11\n",
      "\n"
     ]
    }
   ],
   "source": [
    "df = rtl_data.toPandas()\n",
    "\n",
    "print(df.creation_date.min())\n",
    "print(df.creation_date.max())"
   ]
  },
  {
   "cell_type": "code",
   "execution_count": 81,
   "metadata": {},
   "outputs": [
    {
     "name": "stdout",
     "output_type": "stream",
     "text": [
      "Calculation started (calculation_id=7ac3e866-2150-ec45-b98d-99c5af5a1734) in (session=10c3e854-2955-09cc-08ca-a582cb079ec2). Checking calculation status...\n"
     ]
    },
    {
     "data": {
      "application/vnd.jupyter.widget-view+json": {
       "model_id": "8f0f85466f534a658e4e8dc01ac39af7",
       "version_major": 2,
       "version_minor": 0
      },
      "text/plain": [
       "Progress:   0%|          |elapsed time = 00:00s"
      ]
     },
     "metadata": {},
     "output_type": "display_data"
    },
    {
     "name": "stdout",
     "output_type": "stream",
     "text": [
      "Calculation completed.\n"
     ]
    }
   ],
   "source": [
    "#max_date_row = rtl_data.select(F.max('creation_date')).collect()[0]\n",
    "#max_date_str = max_date_row['max(creation_date)']\n",
    "#print(max_date_str)\n",
    "import datetime\n",
    "\n",
    "now = datetime.datetime.now()"
   ]
  },
  {
   "cell_type": "code",
   "execution_count": 82,
   "metadata": {},
   "outputs": [
    {
     "name": "stdout",
     "output_type": "stream",
     "text": [
      "Calculation started (calculation_id=7cc3e866-22b3-13aa-db50-b6879da742a2) in (session=10c3e854-2955-09cc-08ca-a582cb079ec2). Checking calculation status...\n"
     ]
    },
    {
     "data": {
      "application/vnd.jupyter.widget-view+json": {
       "model_id": "218a11f5e6134d37824f820979baf06e",
       "version_major": 2,
       "version_minor": 0
      },
      "text/plain": [
       "Progress:   0%|          |elapsed time = 00:00s"
      ]
     },
     "metadata": {},
     "output_type": "display_data"
    },
    {
     "name": "stdout",
     "output_type": "stream",
     "text": [
      "Calculation completed.\n",
      "   user_id  Recency  Frequency  Monetary\n",
      "0        5       59         19  17923.42\n",
      "1       31       81         10   3181.85\n",
      "2       75      295          2    765.00\n",
      "3       89      356          1    500.00\n",
      "4      144       72         17  10750.06\n",
      "\n"
     ]
    }
   ],
   "source": [
    "# Recency   = Overall latest invoice date - individual customer's last invoice date\n",
    "# Frequency = count of invoice no. of transaction(s)\n",
    "# Monetary = Sum of Total amount for each customer\n",
    "\n",
    "# Set max_date_str as the overall last invoice date. This is to calculate recency in days.\n",
    "latest_date = F.to_date(F.lit(now), 'yyyy-MM-dd HH:mm:ss')\n",
    "\n",
    "# Create RFM Modelling scores for each customer\n",
    "\n",
    "### Approach One\n",
    "rfm_scores = (rtl_data.groupBy(\"user_id\")\n",
    "              .agg((F.datediff(latest_date, F.max(F.col(\"creation_date\")))).alias(\"Recency\"),\n",
    "                   F.count(\"*\").alias(\"Frequency\"),\n",
    "                   F.sum(F.col(\"boost_amount\")).alias(\"Monetary\")).sort(\"user_id\"))\n",
    "\n",
    "### Approach Two\n",
    "# recency = (\n",
    "#     rtl_data.groupBy(\"user_id\")\n",
    "#             .agg((F.datediff(latest_date, F.max(F.col(\"creation_date\")))).alias(\"Recency\"))\n",
    "# )\n",
    "\n",
    "# frequency = (\n",
    "#     rtl_data.groupBy(\"user_id\", \"invoice_number\").count()\n",
    "#             .groupBy(\"user_id\")\n",
    "#             .agg(F.count(\"*\").alias(\"Frequency\"))\n",
    "# )\n",
    "\n",
    "# monetary = (\n",
    "#     rtl_data.groupBy(\"user_id\")\n",
    "#             .agg(F.sum(F.col(\"total_amount\")).alias(\"Monetary\"))\n",
    "# )\n",
    "\n",
    "# rfm_scores = (\n",
    "#     recency.join(frequency, 'user_id', how = 'inner')\n",
    "#            .join(monetary,'user_id', how = 'inner')\n",
    "# )\n",
    "\n",
    "printdf(rfm_scores)"
   ]
  },
  {
   "cell_type": "code",
   "execution_count": 83,
   "metadata": {},
   "outputs": [
    {
     "name": "stdout",
     "output_type": "stream",
     "text": [
      "Calculation started (calculation_id=3ec3e866-3427-d0dc-14e5-f64ea4aaf64c) in (session=10c3e854-2955-09cc-08ca-a582cb079ec2). Checking calculation status...\n"
     ]
    },
    {
     "data": {
      "application/vnd.jupyter.widget-view+json": {
       "model_id": "8bcaa80727414cb9816fe89d37480258",
       "version_major": 2,
       "version_minor": 0
      },
      "text/plain": [
       "Progress:   0%|          |elapsed time = 00:00s"
      ]
     },
     "metadata": {},
     "output_type": "display_data"
    },
    {
     "name": "stdout",
     "output_type": "stream",
     "text": [
      "Calculation completed.\n"
     ]
    }
   ],
   "source": [
    "rfm_scores.toPandas().describe()\n",
    "rfm_scores = rfm_scores.filter(rfm_scores.Recency < 500)"
   ]
  },
  {
   "cell_type": "code",
   "execution_count": 57,
   "metadata": {},
   "outputs": [],
   "source": [
    "### Explore the RFM Scores using SNS"
   ]
  },
  {
   "cell_type": "code",
   "execution_count": 84,
   "metadata": {},
   "outputs": [
    {
     "name": "stdout",
     "output_type": "stream",
     "text": [
      "Calculation started (calculation_id=80c3e866-45bd-2f3b-33b9-43d0a0c55b28) in (session=10c3e854-2955-09cc-08ca-a582cb079ec2). Checking calculation status...\n"
     ]
    },
    {
     "data": {
      "application/vnd.jupyter.widget-view+json": {
       "model_id": "c700f8bd91ee40ad8eae6c135961e5e0",
       "version_major": 2,
       "version_minor": 0
      },
      "text/plain": [
       "Progress:   0%|          |elapsed time = 00:00s"
      ]
     },
     "metadata": {},
     "output_type": "display_data"
    },
    {
     "name": "stdout",
     "output_type": "stream",
     "text": [
      "Calculation completed.\n"
     ]
    }
   ],
   "source": [
    "rfm_scores_df = rfm_scores.toPandas()"
   ]
  },
  {
   "cell_type": "code",
   "execution_count": 85,
   "metadata": {},
   "outputs": [
    {
     "name": "stdout",
     "output_type": "stream",
     "text": [
      "Calculation started (calculation_id=d6c3e866-4b08-e024-5b9b-cbb2bfe02904) in (session=10c3e854-2955-09cc-08ca-a582cb079ec2). Checking calculation status...\n"
     ]
    },
    {
     "data": {
      "application/vnd.jupyter.widget-view+json": {
       "model_id": "0008a36585904f929283bc18d9cf8610",
       "version_major": 2,
       "version_minor": 0
      },
      "text/plain": [
       "Progress:   0%|          |elapsed time = 00:00s"
      ]
     },
     "metadata": {},
     "output_type": "display_data"
    },
    {
     "name": "stdout",
     "output_type": "stream",
     "text": [
      "Calculation completed.\n",
      "<AxesSubplot:xlabel='Monetary', ylabel='Count'>\n",
      "\n"
     ]
    }
   ],
   "source": [
    "import seaborn as sns\n",
    "\n",
    "fig, ax = plt.subplots(1, 3, figsize=(16, 8))\n",
    "\n",
    "# Recency distribution plot\n",
    "sns.histplot(rfm_scores_df.query('Recency < 500')['Recency'], kde=True, ax=ax[0])\n",
    "\n",
    "# Frequency distribution plot\n",
    "sns.histplot(rfm_scores_df.query('Frequency < 35')['Frequency'], kde=True, ax=ax[1])\n",
    "\n",
    "# Monetary distribution plot\n",
    "sns.histplot(rfm_scores_df.query('Monetary < 100000')['Monetary'], kde=True, ax=ax[2])"
   ]
  },
  {
   "cell_type": "code",
   "execution_count": 86,
   "metadata": {},
   "outputs": [
    {
     "name": "stdout",
     "output_type": "stream",
     "text": [
      "Calculation started (calculation_id=1cc3e866-5063-2456-91a1-c6f1ff997666) in (session=10c3e854-2955-09cc-08ca-a582cb079ec2). Checking calculation status...\n"
     ]
    },
    {
     "data": {
      "application/vnd.jupyter.widget-view+json": {
       "model_id": "e54b7251ca6d48719a2186cc3f9bf6aa",
       "version_major": 2,
       "version_minor": 0
      },
      "text/plain": [
       "Progress:   0%|          |elapsed time = 00:00s"
      ]
     },
     "metadata": {},
     "output_type": "display_data"
    },
    {
     "name": "stdout",
     "output_type": "stream",
     "text": [
      "Calculation completed.\n"
     ]
    }
   ],
   "source": [
    "import boto3\n",
    "s3client=boto3.client('s3')\n",
    "fig.savefig('rfm_histogram.png')\n",
    "s3client.upload_file('rfm_histogram.png', 'athenapyspark-rfm-analysis-result', 'boost-analysis/rfm_histogram.png')"
   ]
  },
  {
   "cell_type": "code",
   "execution_count": 58,
   "metadata": {},
   "outputs": [],
   "source": [
    "### Save RFM Numbers"
   ]
  },
  {
   "cell_type": "code",
   "execution_count": 87,
   "metadata": {},
   "outputs": [
    {
     "name": "stdout",
     "output_type": "stream",
     "text": [
      "Calculation started (calculation_id=90c3e866-55cc-e8e7-ee08-fc87b52295f2) in (session=10c3e854-2955-09cc-08ca-a582cb079ec2). Checking calculation status...\n"
     ]
    },
    {
     "data": {
      "application/vnd.jupyter.widget-view+json": {
       "model_id": "7855e5c16709487e81740383e44e28ab",
       "version_major": 2,
       "version_minor": 0
      },
      "text/plain": [
       "Progress:   0%|          |elapsed time = 00:00s"
      ]
     },
     "metadata": {},
     "output_type": "display_data"
    },
    {
     "name": "stdout",
     "output_type": "stream",
     "text": [
      "Calculation completed.\n",
      "0\n",
      "s3.Object(bucket_name='athenapyspark-rfm-analysis-result', key='boost-analysis/evo_rfm_numbers.csv')\n",
      "\n"
     ]
    }
   ],
   "source": [
    "s3 = boto3.resource('s3')\n",
    "bucket = s3.Bucket('athenapyspark-rfm-analysis-result')\n",
    "import tempfile\n",
    "with tempfile.TemporaryFile(mode='w+t') as f:\n",
    "    # write the DataFrame to the temporary file\n",
    "    rfm_scores_df.to_csv(f, index=False)\n",
    "    # reset the file pointer to the beginning of the file\n",
    "    f.seek(0)\n",
    "    # upload the file to S3\n",
    "    bucket.put_object(Key='boost-analysis/evo_rfm_numbers.csv', Body=f.read().encode())"
   ]
  },
  {
   "cell_type": "code",
   "execution_count": 59,
   "metadata": {},
   "outputs": [],
   "source": [
    "### Calculate RFM Scores"
   ]
  },
  {
   "cell_type": "code",
   "execution_count": 88,
   "metadata": {},
   "outputs": [
    {
     "name": "stdout",
     "output_type": "stream",
     "text": [
      "Calculation started (calculation_id=f8c3e866-5b20-f144-9199-bb51c45676d7) in (session=10c3e854-2955-09cc-08ca-a582cb079ec2). Checking calculation status...\n"
     ]
    },
    {
     "data": {
      "application/vnd.jupyter.widget-view+json": {
       "model_id": "939b7c587dff47eaaf631927bbbd1303",
       "version_major": 2,
       "version_minor": 0
      },
      "text/plain": [
       "Progress:   0%|          |elapsed time = 00:00s"
      ]
     },
     "metadata": {},
     "output_type": "display_data"
    },
    {
     "name": "stdout",
     "output_type": "stream",
     "text": [
      "Calculation completed.\n",
      "[[72.0, 117.0], [2.0, 9.0], [541.5434, 3181.8500000000004]]\n",
      "\n"
     ]
    }
   ],
   "source": [
    "# We are going to divide our customer base into 3 segments: \n",
    "#    1st segment: top 33%\n",
    "#    2nd segment: 33% - 66%\n",
    "#    3rd segment: bottom 33%\n",
    "\n",
    "# Understand and calculate different quantiles\n",
    "\n",
    "# rfm_scores.toPandas()[\"Recency\"].describe()\n",
    "\n",
    "segments = [0.33, 0.66]\n",
    "\n",
    "quantiles = rfm_scores.approxQuantile(\n",
    "    [\"Recency\", \"Frequency\", \"Monetary\"], \n",
    "    segments,\n",
    "    0)\n",
    "quantiles"
   ]
  },
  {
   "cell_type": "code",
   "execution_count": 89,
   "metadata": {},
   "outputs": [
    {
     "name": "stdout",
     "output_type": "stream",
     "text": [
      "Calculation started (calculation_id=40c3e866-70c7-0743-aba3-d474f4a6198e) in (session=10c3e854-2955-09cc-08ca-a582cb079ec2). Checking calculation status...\n"
     ]
    },
    {
     "data": {
      "application/vnd.jupyter.widget-view+json": {
       "model_id": "a24e261510c14b8a8f7d87e1f4135305",
       "version_major": 2,
       "version_minor": 0
      },
      "text/plain": [
       "Progress:   0%|          |elapsed time = 00:00s"
      ]
     },
     "metadata": {},
     "output_type": "display_data"
    },
    {
     "name": "stdout",
     "output_type": "stream",
     "text": [
      "Calculation completed.\n"
     ]
    }
   ],
   "source": [
    "# Calculate R,F,M scores considering 3 quantiles\n",
    "\n",
    "rfm_scores = (rfm_scores\n",
    "    .withColumn(\"R_Score\",\n",
    "                F.when(F.col(\"Recency\") < quantiles[0][0], F.lit(1))\n",
    "                 .when(F.col(\"Recency\") < quantiles[0][1], F.lit(2))\n",
    "                 .otherwise(F.lit(3)))\n",
    "    .withColumn(\"F_Score\",\n",
    "                F.when(F.col(\"Frequency\") < quantiles[1][0], F.lit(3))\n",
    "                 .when(F.col(\"Frequency\") < quantiles[1][1], F.lit(2))\n",
    "                 .otherwise(F.lit(1)))\n",
    "    .withColumn(\"M_Score\",\n",
    "                F.when(F.col(\"Monetary\") < quantiles[2][0], F.lit(3))\n",
    "                 .when(F.col(\"Monetary\") < quantiles[2][1], F.lit(2))\n",
    "                 .otherwise(F.lit(1))))\n",
    "\n",
    "# printdf(rfm_scores.filter(F.col(\"CustomerID\").isin([12346,12747,12748,12749,12820])))\n",
    "# printdf(rfm_scores)\n",
    "\n",
    "# rfm_scores.describe().show()"
   ]
  },
  {
   "cell_type": "code",
   "execution_count": 90,
   "metadata": {},
   "outputs": [
    {
     "name": "stdout",
     "output_type": "stream",
     "text": [
      "Calculation started (calculation_id=9ec3e866-761c-1369-0dee-e7f23c08cade) in (session=10c3e854-2955-09cc-08ca-a582cb079ec2). Checking calculation status...\n"
     ]
    },
    {
     "data": {
      "application/vnd.jupyter.widget-view+json": {
       "model_id": "7b3e042ee98242e3a0ff54662a0b7339",
       "version_major": 2,
       "version_minor": 0
      },
      "text/plain": [
       "Progress:   0%|          |elapsed time = 00:00s"
      ]
     },
     "metadata": {},
     "output_type": "display_data"
    },
    {
     "name": "stdout",
     "output_type": "stream",
     "text": [
      "Calculation completed.\n",
      "   user_id  Recency  Frequency  ...  M_Score  RFM_Score  RFM_ScoreGroup\n",
      "0        5       59         19  ...        1          3             111\n",
      "1       31       81         10  ...        1          4             211\n",
      "2       75      295          2  ...        2          7             322\n",
      "3       89      356          1  ...        3          9             333\n",
      "4      144       72         17  ...        1          4             211\n",
      "\n",
      "[5 rows x 9 columns]\n",
      "\n"
     ]
    }
   ],
   "source": [
    "# Aggregate RFM scores\n",
    "\n",
    "rfm_agg_scores = (\n",
    "    rfm_scores\n",
    "    .withColumn(\"RFM_Score\", F.col(\"R_Score\") + F.col(\"F_Score\") + F.col(\"M_Score\"))\n",
    "    .withColumn(\"RFM_ScoreGroup\", F.concat(F.col(\"R_Score\").cast(StringType()), F.col(\"F_Score\").cast(StringType()), F.col(\"M_Score\").cast(StringType())))\n",
    ")\n",
    "\n",
    "printdf(rfm_agg_scores)"
   ]
  },
  {
   "cell_type": "code",
   "execution_count": 91,
   "metadata": {},
   "outputs": [
    {
     "name": "stdout",
     "output_type": "stream",
     "text": [
      "Calculation started (calculation_id=7ac3e866-87e0-727e-2a5b-5f7a0256cc0a) in (session=10c3e854-2955-09cc-08ca-a582cb079ec2). Checking calculation status...\n"
     ]
    },
    {
     "data": {
      "application/vnd.jupyter.widget-view+json": {
       "model_id": "18ec502b8a9c4ae28b0e0a63558b822c",
       "version_major": 2,
       "version_minor": 0
      },
      "text/plain": [
       "Progress:   0%|          |elapsed time = 00:00s"
      ]
     },
     "metadata": {},
     "output_type": "display_data"
    },
    {
     "name": "stdout",
     "output_type": "stream",
     "text": [
      "Calculation completed.\n",
      "(36, 9)\n",
      "\n"
     ]
    }
   ],
   "source": [
    "df_rfm_agg_scores = rfm_agg_scores.toPandas()\n",
    "df_rfm_agg_scores.shape"
   ]
  },
  {
   "cell_type": "code",
   "execution_count": 92,
   "metadata": {},
   "outputs": [
    {
     "name": "stdout",
     "output_type": "stream",
     "text": [
      "Calculation started (calculation_id=56c3e866-8d50-22bd-9b55-ff6abe4c9f3f) in (session=10c3e854-2955-09cc-08ca-a582cb079ec2). Checking calculation status...\n"
     ]
    },
    {
     "data": {
      "application/vnd.jupyter.widget-view+json": {
       "model_id": "484ab91578d4408488918680f6274773",
       "version_major": 2,
       "version_minor": 0
      },
      "text/plain": [
       "Progress:   0%|          |elapsed time = 00:00s"
      ]
     },
     "metadata": {},
     "output_type": "display_data"
    },
    {
     "name": "stdout",
     "output_type": "stream",
     "text": [
      "Calculation completed.\n"
     ]
    }
   ],
   "source": [
    "df_rfm_agg_scores = df_rfm_agg_scores.sort_values([\"RFM_Score\"])\n",
    "\n",
    "fig, ax = plt.subplots(1, 2, figsize=(16, 8))\n",
    "plt.xticks(rotation=90)\n",
    "# sns.histplot(df_rfm_agg_scores[\"RFMScore\"], kde=True, bins=10, ax=ax[0])\n",
    "sns.countplot(x=\"RFM_Score\", data=df_rfm_agg_scores, \n",
    "              color='steelblue', ax=ax[0])\n",
    "sns.countplot(x=\"RFM_ScoreGroup\", data=df_rfm_agg_scores, \n",
    "              color='steelblue', ax=ax[1])\n",
    "# sns.histplot(df_rfm_agg_scores[\"RFMScoreGroup\"], color='steelblue', ax=ax[2])\n",
    "fig.savefig('rfmscore_countplot.png')\n",
    "s3client.upload_file('rfmscore_countplot.png', 'athenapyspark-rfm-analysis-result', 'boost-analysis/rfmscore_countplot.png')"
   ]
  },
  {
   "cell_type": "code",
   "execution_count": 93,
   "metadata": {},
   "outputs": [
    {
     "name": "stdout",
     "output_type": "stream",
     "text": [
      "Calculation started (calculation_id=08c3e866-92eb-e428-1ce6-c516b6233efe) in (session=10c3e854-2955-09cc-08ca-a582cb079ec2). Checking calculation status...\n"
     ]
    },
    {
     "data": {
      "application/vnd.jupyter.widget-view+json": {
       "model_id": "4344e6be1b57409daf976116df6323a7",
       "version_major": 2,
       "version_minor": 0
      },
      "text/plain": [
       "Progress:   0%|          |elapsed time = 00:00s"
      ]
     },
     "metadata": {},
     "output_type": "display_data"
    },
    {
     "name": "stdout",
     "output_type": "stream",
     "text": [
      "Calculation completed.\n",
      "[5.0, 7.0]\n",
      "\n"
     ]
    }
   ],
   "source": [
    "# Identify the three segments again based on RFMScore (33% in each segment)\n",
    "segments = [0.33, 0.66]\n",
    "quantiles = rfm_agg_scores.approxQuantile(\"RFM_Score\", segments, 0)\n",
    "quantiles"
   ]
  },
  {
   "cell_type": "code",
   "execution_count": 94,
   "metadata": {},
   "outputs": [
    {
     "name": "stdout",
     "output_type": "stream",
     "text": [
      "Calculation started (calculation_id=fcc3e866-ac9e-2b74-cd51-bb568e6603ea) in (session=10c3e854-2955-09cc-08ca-a582cb079ec2). Checking calculation status...\n"
     ]
    },
    {
     "data": {
      "application/vnd.jupyter.widget-view+json": {
       "model_id": "66aed5d92eb340db90692e754a82a1e7",
       "version_major": 2,
       "version_minor": 0
      },
      "text/plain": [
       "Progress:   0%|          |elapsed time = 00:00s"
      ]
     },
     "metadata": {},
     "output_type": "display_data"
    },
    {
     "name": "stdout",
     "output_type": "stream",
     "text": [
      "Calculation completed.\n"
     ]
    }
   ],
   "source": [
    "# Assign loyalty level to each customer\n",
    "loyalty_level = ['Platinum', 'Gold', 'Silver']\n",
    "\n",
    "rfm_loyalty = (rfm_agg_scores\n",
    "    .withColumn(\"Loyalty\",\n",
    "                F.when((F.col(\"RFM_Score\") <= quantiles[0]), F.lit(loyalty_level[0]))\n",
    "                 .when((F.col(\"RFM_Score\") <= quantiles[1]), F.lit(loyalty_level[1]))\n",
    "                 .otherwise(F.lit(loyalty_level[2]))))"
   ]
  },
  {
   "cell_type": "code",
   "execution_count": 95,
   "metadata": {},
   "outputs": [
    {
     "name": "stdout",
     "output_type": "stream",
     "text": [
      "Calculation started (calculation_id=eac3e866-b20b-a912-8b46-328ba285a17f) in (session=10c3e854-2955-09cc-08ca-a582cb079ec2). Checking calculation status...\n"
     ]
    },
    {
     "data": {
      "application/vnd.jupyter.widget-view+json": {
       "model_id": "49252e2c8d774f869375a59290303436",
       "version_major": 2,
       "version_minor": 0
      },
      "text/plain": [
       "Progress:   0%|          |elapsed time = 00:00s"
      ]
     },
     "metadata": {},
     "output_type": "display_data"
    },
    {
     "name": "stdout",
     "output_type": "stream",
     "text": [
      "Calculation completed.\n",
      "   user_id  Recency  Frequency  ...  RFM_Score  RFM_ScoreGroup   Loyalty\n",
      "0        5       59         19  ...          3             111  Platinum\n",
      "1       31       81         10  ...          4             211  Platinum\n",
      "2       75      295          2  ...          7             322      Gold\n",
      "3       89      356          1  ...          9             333    Silver\n",
      "4      144       72         17  ...          4             211  Platinum\n",
      "\n",
      "[5 rows x 10 columns]\n",
      "\n"
     ]
    }
   ],
   "source": [
    "printdf(rfm_loyalty)"
   ]
  },
  {
   "cell_type": "code",
   "execution_count": 60,
   "metadata": {},
   "outputs": [],
   "source": [
    "# inspect our loyalty segmentation"
   ]
  },
  {
   "cell_type": "code",
   "execution_count": 96,
   "metadata": {},
   "outputs": [
    {
     "name": "stdout",
     "output_type": "stream",
     "text": [
      "Calculation started (calculation_id=7cc3e866-c3b1-dff3-d256-c459f150ef2c) in (session=10c3e854-2955-09cc-08ca-a582cb079ec2). Checking calculation status...\n"
     ]
    },
    {
     "data": {
      "application/vnd.jupyter.widget-view+json": {
       "model_id": "b54a174f2f1f4bd5b901b205d6d68fd9",
       "version_major": 2,
       "version_minor": 0
      },
      "text/plain": [
       "Progress:   0%|          |elapsed time = 00:00s"
      ]
     },
     "metadata": {},
     "output_type": "display_data"
    },
    {
     "name": "stdout",
     "output_type": "stream",
     "text": [
      "Calculation completed.\n"
     ]
    }
   ],
   "source": [
    "# inspect our loyalty segmentation\n",
    "\n",
    "df_rfm_loyalty = rfm_loyalty.toPandas().sort_values([\"RFM_ScoreGroup\"])\n",
    "\n",
    "fig, ax = plt.subplots(1, 1, figsize=(6, 8))\n",
    "\n",
    "sns.countplot(x=\"Loyalty\", data=df_rfm_loyalty, color='steelblue')\n",
    "for p in ax.patches:\n",
    "    ax.annotate('{}'.format(p.get_height()), (p.get_x() + 0.3, p.get_height() + 1))\n",
    "\n",
    "fig.savefig('rfm_loyalty_countplot.png')\n",
    "s3client.upload_file('rfm_loyalty_countplot.png', 'athenapyspark-rfm-analysis-result', 'boost-analysis/rfm_loyalty_countplot.png')\n"
   ]
  },
  {
   "cell_type": "code",
   "execution_count": 97,
   "metadata": {},
   "outputs": [
    {
     "name": "stdout",
     "output_type": "stream",
     "text": [
      "Calculation started (calculation_id=d6c3e866-c911-643c-3e4d-eb9a6d06f998) in (session=10c3e854-2955-09cc-08ca-a582cb079ec2). Checking calculation status...\n"
     ]
    },
    {
     "data": {
      "application/vnd.jupyter.widget-view+json": {
       "model_id": "99e3449a0bec40bb80d954850b66c2f2",
       "version_major": 2,
       "version_minor": 0
      },
      "text/plain": [
       "Progress:   0%|          |elapsed time = 00:00s"
      ]
     },
     "metadata": {},
     "output_type": "display_data"
    },
    {
     "name": "stdout",
     "output_type": "stream",
     "text": [
      "Calculation completed.\n",
      "0\n",
      "s3.Object(bucket_name='athenapyspark-rfm-analysis-result', key='boost-results/evo_loyalty_rfm.csv')\n",
      "\n"
     ]
    }
   ],
   "source": [
    "with tempfile.TemporaryFile(mode='w+t') as f:\n",
    "    # write the DataFrame to the temporary file\n",
    "    df_rfm_loyalty.to_csv(f, index=False)\n",
    "    # reset the file pointer to the beginning of the file\n",
    "    f.seek(0)\n",
    "    # upload the file to S3\n",
    "    s3 = boto3.resource('s3')\n",
    "    bucket = s3.Bucket('athenapyspark-rfm-analysis-result')\n",
    "    bucket.put_object(Key='boost-results/evo_loyalty_rfm.csv', Body=f.read().encode())\n",
    "    "
   ]
  },
  {
   "cell_type": "code",
   "execution_count": 98,
   "metadata": {},
   "outputs": [
    {
     "name": "stdout",
     "output_type": "stream",
     "text": [
      "Calculation started (calculation_id=0ac3e866-ce76-404e-0edf-12332e498ab2) in (session=10c3e854-2955-09cc-08ca-a582cb079ec2). Checking calculation status...\n"
     ]
    },
    {
     "data": {
      "application/vnd.jupyter.widget-view+json": {
       "model_id": "b93a53454b7a459a8e076aed00a1e5db",
       "version_major": 2,
       "version_minor": 0
      },
      "text/plain": [
       "Progress:   0%|          |elapsed time = 00:00s"
      ]
     },
     "metadata": {},
     "output_type": "display_data"
    },
    {
     "name": "stdout",
     "output_type": "stream",
     "text": [
      "Calculation completed.\n"
     ]
    }
   ],
   "source": [
    "# Restricting the dataset (Monetary < 100000 & Frequency < 500) to best fit the chart\n",
    "\n",
    "df_rfm_loyalty = (rfm_loyalty\n",
    "    .filter(F.col(\"Monetary\") < 100000)\n",
    "    .filter(F.col(\"Frequency\") < 500)\n",
    "    .filter(F.col(\"Recency\") < 500)\n",
    ").toPandas()"
   ]
  },
  {
   "cell_type": "code",
   "execution_count": 99,
   "metadata": {},
   "outputs": [
    {
     "name": "stdout",
     "output_type": "stream",
     "text": [
      "Calculation started (calculation_id=12c3e866-e007-53e4-5ca3-5b4b72427bad) in (session=10c3e854-2955-09cc-08ca-a582cb079ec2). Checking calculation status...\n"
     ]
    },
    {
     "data": {
      "application/vnd.jupyter.widget-view+json": {
       "model_id": "9f17ece3d44c40b9a38ea912af9c8177",
       "version_major": 2,
       "version_minor": 0
      },
      "text/plain": [
       "Progress:   0%|          |elapsed time = 00:00s"
      ]
     },
     "metadata": {},
     "output_type": "display_data"
    },
    {
     "name": "stdout",
     "output_type": "stream",
     "text": [
      "Calculation completed.\n"
     ]
    }
   ],
   "source": [
    "# Monetary vs Recency for each segment\n",
    "plt.close('all')\n",
    "#fig, axs = plt.subplots(3, 1, figsize=(8, 8))\n",
    "#sns.lmplot( data=df_rfm_loyalty, x=\"Recency\", y=\"Monetary\", hue='Loyalty')\n",
    "#fig.savefig('rfm_monetary_vs_recency_lmplot.png')\n",
    "#s3client.upload_file('rfm_monetary_vs_recency_lmplot.png', 'athenapyspark-rfm-analysis-result', 'boost-results/rfm_monetary_vs_recency_lmplot.png')\n",
    "\n",
    "# create a figure with 3 subplots\n",
    "\n",
    "\n",
    "# plot lmplot on\n",
    "\n",
    "# save the figure to a file\n",
    "#fig.savefig('rfm_monetary_vs_recency_lmplot.png')\n",
    "#s3client.upload_file('rfm_monetary_vs_recency_lmplot.png', 'athenapyspark-rfm-analysis-result', 'boost-results/rfm_monetary_vs_recency_lmplot.png')\n",
    "# Monetary vs Requency (combined)\n",
    "fig, ax = plt.subplots(1, 1, figsize=(8, 8))\n",
    "sns.scatterplot(x='Recency', y='Monetary', data=df_rfm_loyalty, hue='Loyalty', size='Monetary')\n",
    "fig.savefig('rfm_monetary_vs_recency_scatterplot.png')\n",
    "s3client.upload_file('rfm_monetary_vs_recency_scatterplot.png', 'athenapyspark-rfm-analysis-result', 'boost-results/rfm_monetary_vs_recency_scatterplot.png')\n",
    "\n",
    "# Frequency vs Recency for each segment\n",
    "#sns.lmplot(x='Recency', y='Frequency', data=df_rfm_loyalty, col='Loyalty', hue='Loyalty', fit_reg=True)\n",
    "#fig.savefig('rfm_frequency_vs_recency_lmplot.png')\n",
    "#s3client.upload_file('rfm_frequency_vs_recency_lmplot.png', 'athenapyspark-rfm-analysis-result', 'boost-results/rfm_frequency_vs_recency_lmplot.png')\n",
    "\n",
    "# Frequency vs Recency (combined)\n",
    "fig, ax = plt.subplots(1, 1, figsize=(8, 8))\n",
    "sns.scatterplot(x='Recency', y='Frequency', data=df_rfm_loyalty, hue='Loyalty', size='Monetary')\n",
    "fig.savefig('rfm_frequency_vs_recency_scatterplot.png')\n",
    "s3client.upload_file('rfm_frequency_vs_recency_scatterplot.png', 'athenapyspark-rfm-analysis-result', 'boost-results/rfm_frequency_vs_recency_scatterplot.png')\n",
    "\n",
    "# Monetary vs Frequency for each segment\n",
    "#sns.lmplot(x='Monetary', y='Frequency', data=df_rfm_loyalty, col='Loyalty', hue='Loyalty', fit_reg=True)\n",
    "#fig.savefig('rfm_monetary_vs_frequency_lmplot.png')\n",
    "#s3client.upload_file('rfm_monetary_vs_frequency_lmplot.png', 'athenapyspark-rfm-analysis-result', 'boost-results/rfm_monetary_vs_frequency_lmplot.png')\n",
    "\n",
    "# Monetary vs Frequency (combined)\n",
    "fig, ax = plt.subplots(1, 1, figsize=(8, 8))\n",
    "sns.scatterplot(x='Monetary', y='Frequency', data=df_rfm_loyalty, hue='Loyalty', size='Monetary')\n",
    "fig.savefig('rfm_monetary_vs_frequency_scatterplot.png')\n",
    "s3client.upload_file('rfm_monetary_vs_frequency_scatterplot.png', 'athenapyspark-rfm-analysis-result', 'boost-results/rfm_monetary_vs_frequency_scatterplot.png')\n"
   ]
  },
  {
   "cell_type": "code",
   "execution_count": 61,
   "metadata": {},
   "outputs": [],
   "source": [
    "# Segmentation 2"
   ]
  },
  {
   "cell_type": "code",
   "execution_count": 100,
   "metadata": {},
   "outputs": [
    {
     "name": "stdout",
     "output_type": "stream",
     "text": [
      "Calculation started (calculation_id=24c3e866-e561-92ca-30bd-1618a438b31b) in (session=10c3e854-2955-09cc-08ca-a582cb079ec2). Checking calculation status...\n"
     ]
    },
    {
     "data": {
      "application/vnd.jupyter.widget-view+json": {
       "model_id": "0eb3f75a822e4503b33a99cd8b446cc0",
       "version_major": 2,
       "version_minor": 0
      },
      "text/plain": [
       "Progress:   0%|          |elapsed time = 00:00s"
      ]
     },
     "metadata": {},
     "output_type": "display_data"
    },
    {
     "name": "stdout",
     "output_type": "stream",
     "text": [
      "Calculation completed.\n"
     ]
    }
   ],
   "source": [
    "# Assign loyalty level to each customer\n",
    "\n",
    "# Champion: Loyal Customers, they are the champions with highest score of RFM.\n",
    "# Potential: Customers who have the most potential to become the Champions.\n",
    "#            They recently shopped and their purchases frequency is high as well. \n",
    "#            Moreover, the amount they spent is quite good.\n",
    "# Require Attention: Customers who used to shop a lot with high money. but they did not purchase recently. \n",
    "# Lost: Customers who haven't paid a visit to the store for a long time.\n",
    "\n",
    "segments = {\n",
    "    'Champion':['111'], \n",
    "    'Potential':['112','113','121','131','123','122','133','132'], \n",
    "    'Need Attention':['211','221','231','232','213','212','233','223','222'],\n",
    "    'Lost':['312','321','331','311','333','332','323','322','313']\n",
    "}\n",
    "\n",
    "rfm_segment = (rfm_agg_scores\n",
    "    .withColumn(\"Segment\",\n",
    "                F.when((F.col(\"RFM_ScoreGroup\").isin(segments['Champion'])), F.lit('Champion'))\n",
    "                 .when((F.col(\"RFM_ScoreGroup\").isin(segments['Potential'])), F.lit('Potential'))\n",
    "                 .when((F.col(\"RFM_ScoreGroup\").isin(segments['Need Attention'])), F.lit('Need Attention'))\n",
    "                 .otherwise(F.lit('Lost'))))"
   ]
  },
  {
   "cell_type": "code",
   "execution_count": 101,
   "metadata": {},
   "outputs": [
    {
     "name": "stdout",
     "output_type": "stream",
     "text": [
      "Calculation started (calculation_id=42c3e866-eaa2-d653-47ca-5271951316c9) in (session=10c3e854-2955-09cc-08ca-a582cb079ec2). Checking calculation status...\n"
     ]
    },
    {
     "data": {
      "application/vnd.jupyter.widget-view+json": {
       "model_id": "7c34c9de2436481aa264746a06949a0f",
       "version_major": 2,
       "version_minor": 0
      },
      "text/plain": [
       "Progress:   0%|          |elapsed time = 00:00s"
      ]
     },
     "metadata": {},
     "output_type": "display_data"
    },
    {
     "name": "stdout",
     "output_type": "stream",
     "text": [
      "Calculation completed.\n",
      "   user_id  Recency  Frequency  ...  RFM_Score  RFM_ScoreGroup         Segment\n",
      "0        5       59         19  ...          3             111        Champion\n",
      "1       31       81         10  ...          4             211  Need Attention\n",
      "2       75      295          2  ...          7             322            Lost\n",
      "3       89      356          1  ...          9             333            Lost\n",
      "4      144       72         17  ...          4             211  Need Attention\n",
      "\n",
      "[5 rows x 10 columns]\n",
      "\n"
     ]
    }
   ],
   "source": [
    "# printdf(rfm_loyalty.filter(F.col(\"CustomerID\").isin([12346,12747,12748,12749,12820])))\n",
    "# printdf(rfm_loyalty.filter(F.col(\"RFM_ScoreGroup\") == \"111\"), 10)\n",
    "printdf(rfm_segment)"
   ]
  },
  {
   "cell_type": "code",
   "execution_count": 102,
   "metadata": {},
   "outputs": [
    {
     "name": "stdout",
     "output_type": "stream",
     "text": [
      "Calculation started (calculation_id=3cc3e866-fc1c-6389-e6d9-29e4d36fb649) in (session=10c3e854-2955-09cc-08ca-a582cb079ec2). Checking calculation status...\n"
     ]
    },
    {
     "data": {
      "application/vnd.jupyter.widget-view+json": {
       "model_id": "a2adb711d8d34042b93f9f859aa9b9a3",
       "version_major": 2,
       "version_minor": 0
      },
      "text/plain": [
       "Progress:   0%|          |elapsed time = 00:00s"
      ]
     },
     "metadata": {},
     "output_type": "display_data"
    },
    {
     "name": "stdout",
     "output_type": "stream",
     "text": [
      "Calculation completed.\n"
     ]
    }
   ],
   "source": [
    "df_rfm_segment = rfm_segment.toPandas().sort_values([\"RFM_ScoreGroup\"])\n",
    "\n",
    "fig, ax = plt.subplots(1, 1, figsize=(6, 8))\n",
    "\n",
    "# sns.histplot(df_rfm_loyalty[\"Loyalty\"], color='steelblue', shrink=.8)\n",
    "sns.countplot(x=\"Segment\", data=df_rfm_segment, color='steelblue')\n",
    "for p in ax.patches:\n",
    "    ax.annotate('{}'.format(p.get_height()), (p.get_x() + 0.3, p.get_height() + 1))\n",
    "fig.savefig('rfm_segment_countplot.png')\n",
    "import boto3\n",
    "s3client=boto3.client('s3')\n",
    "s3client.upload_file('rfm_segment_countplot.png', 'athenapyspark-rfm-analysis-result', 'boost-results/rfm_segment_countplot.png')\n"
   ]
  },
  {
   "cell_type": "code",
   "execution_count": 103,
   "metadata": {},
   "outputs": [
    {
     "name": "stdout",
     "output_type": "stream",
     "text": [
      "Calculation started (calculation_id=1ac3e867-017e-1542-90a0-e01021a29824) in (session=10c3e854-2955-09cc-08ca-a582cb079ec2). Checking calculation status...\n"
     ]
    },
    {
     "data": {
      "application/vnd.jupyter.widget-view+json": {
       "model_id": "2cc0acb5d06a4d5dbbe3a7ca9e7bd402",
       "version_major": 2,
       "version_minor": 0
      },
      "text/plain": [
       "Progress:   0%|          |elapsed time = 00:00s"
      ]
     },
     "metadata": {},
     "output_type": "display_data"
    },
    {
     "name": "stdout",
     "output_type": "stream",
     "text": [
      "Calculation completed.\n",
      "0\n",
      "s3.Object(bucket_name='athenapyspark-rfm-analysis-result', key='boost-results/evo_rfm_segment.csv')\n",
      "\n"
     ]
    }
   ],
   "source": [
    "with tempfile.TemporaryFile(mode='w+t') as f:\n",
    "    df_rfm_segment.to_csv(f, index=False)\n",
    "# reset the file pointer to the beginning of the file\n",
    "    f.seek(0)\n",
    "# upload the file to S3\n",
    "    bucket.put_object(Key='boost-results/evo_rfm_segment.csv', Body=f.read().encode())\n",
    "    "
   ]
  },
  {
   "cell_type": "code",
   "execution_count": 62,
   "metadata": {},
   "outputs": [],
   "source": [
    "# Visualize"
   ]
  },
  {
   "cell_type": "code",
   "execution_count": 104,
   "metadata": {},
   "outputs": [
    {
     "name": "stdout",
     "output_type": "stream",
     "text": [
      "Calculation started (calculation_id=88c3e867-071c-2a61-b63f-614cfda8b5ec) in (session=10c3e854-2955-09cc-08ca-a582cb079ec2). Checking calculation status...\n"
     ]
    },
    {
     "data": {
      "application/vnd.jupyter.widget-view+json": {
       "model_id": "2d993f1510b0476698b2687da243313b",
       "version_major": 2,
       "version_minor": 0
      },
      "text/plain": [
       "Progress:   0%|          |elapsed time = 00:00s"
      ]
     },
     "metadata": {},
     "output_type": "display_data"
    },
    {
     "name": "stdout",
     "output_type": "stream",
     "text": [
      "Calculation completed.\n"
     ]
    }
   ],
   "source": [
    "# Restricting the dataset (Monetary < 100000 & Frequency < 500) to optimize the chart\n",
    "\n",
    "df_rfm_segment = (rfm_segment\n",
    "    .filter(F.col(\"Monetary\") < 100000)\n",
    "    .filter(F.col(\"Frequency\") < 500)\n",
    "    .filter(F.col(\"Recency\") < 500)\n",
    ").toPandas()"
   ]
  },
  {
   "cell_type": "code",
   "execution_count": 105,
   "metadata": {},
   "outputs": [
    {
     "name": "stdout",
     "output_type": "stream",
     "text": [
      "Calculation started (calculation_id=b8c3e867-18ae-2b1b-a08d-2f64c7f4d13d) in (session=10c3e854-2955-09cc-08ca-a582cb079ec2). Checking calculation status...\n"
     ]
    },
    {
     "data": {
      "application/vnd.jupyter.widget-view+json": {
       "model_id": "dd6a7cc29bce40e8a8f60fd3791e32d5",
       "version_major": 2,
       "version_minor": 0
      },
      "text/plain": [
       "Progress:   0%|          |elapsed time = 00:00s"
      ]
     },
     "metadata": {},
     "output_type": "display_data"
    },
    {
     "name": "stdout",
     "output_type": "stream",
     "text": [
      "Calculation completed.\n"
     ]
    }
   ],
   "source": [
    "# Monetary vs Frequency for each segment\n",
    "#sns.lmplot(x='Monetary', y='Frequency', data=df_rfm_segment, col='Segment', hue='Segment', fit_reg=True)\n",
    "\n",
    "# Monetary vs Frequency (combined)\n",
    "fig, ax = plt.subplots(1, 1, figsize=(8, 8))\n",
    "sns.scatterplot(x='Monetary', y='Frequency', data=df_rfm_segment, hue='Segment', size='Monetary')\n",
    "fig.savefig('rfm_visualize_monetary_vs_frequency_scatterplot.png')\n",
    "s3client.upload_file('rfm_visualize_monetary_vs_frequency_scatterplot.png', 'athenapyspark-rfm-analysis-result', 'boost-results/rfm_visualize_monetary_vs_frequency_scatterplot.png')\n"
   ]
  },
  {
   "cell_type": "code",
   "execution_count": 106,
   "metadata": {},
   "outputs": [
    {
     "name": "stdout",
     "output_type": "stream",
     "text": [
      "Calculation started (calculation_id=b8c3e867-1e28-b607-4487-d77f87aaf266) in (session=10c3e854-2955-09cc-08ca-a582cb079ec2). Checking calculation status...\n"
     ]
    },
    {
     "data": {
      "application/vnd.jupyter.widget-view+json": {
       "model_id": "22d8708dba4c4ca98bfb686ad8264b12",
       "version_major": 2,
       "version_minor": 0
      },
      "text/plain": [
       "Progress:   0%|          |elapsed time = 00:00s"
      ]
     },
     "metadata": {},
     "output_type": "display_data"
    },
    {
     "name": "stdout",
     "output_type": "stream",
     "text": [
      "Calculation completed.\n"
     ]
    }
   ],
   "source": [
    "import matplotlib\n",
    "matplotlib.rcParams['figure.max_open_warning'] = 50 # set the maximum number of allowed open figures to 50"
   ]
  },
  {
   "cell_type": "code",
   "execution_count": 107,
   "metadata": {},
   "outputs": [
    {
     "name": "stdout",
     "output_type": "stream",
     "text": [
      "Calculation started (calculation_id=62c3e867-1f5f-ba3e-0805-d18ecdf0effa) in (session=10c3e854-2955-09cc-08ca-a582cb079ec2). Checking calculation status...\n"
     ]
    },
    {
     "data": {
      "application/vnd.jupyter.widget-view+json": {
       "model_id": "3b614eafd9ea4b74a42a3d7c46148213",
       "version_major": 2,
       "version_minor": 0
      },
      "text/plain": [
       "Progress:   0%|          |elapsed time = 00:00s"
      ]
     },
     "metadata": {},
     "output_type": "display_data"
    },
    {
     "name": "stdout",
     "output_type": "stream",
     "text": [
      "Calculation completed.\n"
     ]
    }
   ],
   "source": [
    "# Monetary vs Recency for each segment\n",
    "#sns.lmplot(x='Recency', y='Monetary', data=df_rfm_segment, col='Segment', hue='Segment', fit_reg=True)\n",
    "\n",
    "# Monetary vs Recency (combined)\n",
    "fig, ax = plt.subplots(1, 1, figsize=(8, 8))\n",
    "sns.scatterplot(x='Recency', y='Monetary', data=df_rfm_segment, hue='Segment', size='Monetary')\n",
    "fig.savefig('rfm_visualize_monetary_vs_recency_scatterplot.png')\n",
    "s3client.upload_file('rfm_visualize_monetary_vs_recency_scatterplot.png', 'athenapyspark-rfm-analysis-result', 'boost-results/rfm_visualize_monetary_vs_recency_scatterplot.png')\n"
   ]
  },
  {
   "cell_type": "code",
   "execution_count": 108,
   "metadata": {},
   "outputs": [
    {
     "name": "stdout",
     "output_type": "stream",
     "text": [
      "Calculation started (calculation_id=cec3e867-24bc-43bd-cca0-b2382ed782a3) in (session=10c3e854-2955-09cc-08ca-a582cb079ec2). Checking calculation status...\n"
     ]
    },
    {
     "data": {
      "application/vnd.jupyter.widget-view+json": {
       "model_id": "5aff3c57eb9f4817b2da6d0ccbfe5ddb",
       "version_major": 2,
       "version_minor": 0
      },
      "text/plain": [
       "Progress:   0%|          |elapsed time = 00:00s"
      ]
     },
     "metadata": {},
     "output_type": "display_data"
    },
    {
     "name": "stdout",
     "output_type": "stream",
     "text": [
      "Calculation completed.\n"
     ]
    }
   ],
   "source": [
    "# Frequency vs Recency for each segment\n",
    "#sns.lmplot(x='Recency', y='Frequency', data=df_rfm_segment, col='Segment', hue='Segment', fit_reg=True)\n",
    "\n",
    "# Frequency vs Recency (combined)\n",
    "fig, ax = plt.subplots(1, 1, figsize=(8, 8))\n",
    "sns.scatterplot(x='Recency', y='Frequency', data=df_rfm_segment, hue='Segment', size='Monetary')\n",
    "fig.savefig('rfm_visualize_frequency_vs_recency_scatterplot.png')\n",
    "s3client.upload_file('rfm_visualize_frequency_vs_recency_scatterplot.png', 'athenapyspark-rfm-analysis-result', 'boost-results/rfm_visualize_frequency_vs_recency_scatterplot.png')\n"
   ]
  },
  {
   "cell_type": "code",
   "execution_count": null,
   "metadata": {},
   "outputs": [],
   "source": []
  }
 ],
 "metadata": {
  "kernelspec": {
   "display_name": "Athena PySpark",
   "language": "python",
   "name": "kepler_python_kernel"
  },
  "language_info": {
   "codemirror_mode": {
    "name": "python",
    "version": 3
   },
   "file_extension": ".py",
   "mimetype": "text/x-python",
   "name": "Python_Session",
   "pygments_lexer": "python3"
  }
 },
 "nbformat": 4,
 "nbformat_minor": 1
}
